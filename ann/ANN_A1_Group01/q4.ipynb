{
 "cells": [
  {
   "cell_type": "code",
   "execution_count": 1,
   "id": "90e1bb11-7a7c-470a-aed9-299eaa0a29b4",
   "metadata": {},
   "outputs": [],
   "source": [
    "## libraries\n",
    "from sklearn.preprocessing import OneHotEncoder\n",
    "from sklearn.metrics import accuracy_score\n",
    "import os, pickle\n",
    "import numpy as np\n",
    "from sklearn.model_selection import train_test_split\n",
    "from sklearn.preprocessing import OneHotEncoder\n",
    "from sklearn.neural_network import MLPClassifier\n",
    "from sklearn.preprocessing import StandardScaler\n",
    "from sklearn.metrics import accuracy_score\n",
    "import time"
   ]
  },
  {
   "cell_type": "code",
   "execution_count": null,
   "id": "499b1151-7ec3-4c38-8be1-d5164a5fb0be",
   "metadata": {},
   "outputs": [],
   "source": []
  },
  {
   "cell_type": "code",
   "execution_count": 2,
   "id": "0c159734-4daf-4249-98bf-19e3d2d021a7",
   "metadata": {},
   "outputs": [],
   "source": [
    "## dataset\n",
    "def load_cifar10(path):\n",
    "    data, labels = [], []\n",
    "    for i in range(1, 6):\n",
    "        with open(os.path.join(path, f\"data_batch_{i}\"), 'rb') as f:\n",
    "            batch = pickle.load(f, encoding='bytes')\n",
    "            data.append(batch[b'data'])\n",
    "            labels += batch[b'labels']\n",
    "    X = np.concatenate(data).astype(np.float32) / 255.0\n",
    "    y = np.array(labels).reshape(-1, 1)\n",
    "    return X, y\n",
    "\n",
    "def load_cifar10_test(path):\n",
    "    with open(os.path.join(path, \"test_batch\"), 'rb') as f:\n",
    "        batch = pickle.load(f, encoding='bytes')\n",
    "        X = batch[b'data'].astype(np.float32) / 255.0\n",
    "        y = np.array(batch[b'labels']).reshape(-1, 1)\n",
    "    return X, y"
   ]
  },
  {
   "cell_type": "code",
   "execution_count": 4,
   "id": "446712d7-16cb-43a5-8a29-144db9d4227f",
   "metadata": {},
   "outputs": [],
   "source": [
    "X_train, y_train = load_cifar10(\"cifar\")\n",
    "X_test, y_test = load_cifar10_test(\"cifar\")\n",
    "\n",
    "enc = OneHotEncoder(sparse_output=False)\n",
    "Y_train = enc.fit_transform(y_train)\n",
    "Y_test = enc.transform(y_test)\n",
    "\n"
   ]
  },
  {
   "cell_type": "code",
   "execution_count": 5,
   "id": "beaff783-f99d-4dce-912e-01c41fe57e28",
   "metadata": {},
   "outputs": [
    {
     "name": "stdout",
     "output_type": "stream",
     "text": [
      "Sklearn 1-layer MLP accuracy: 0.4147 | Training time: 89.7s\n"
     ]
    },
    {
     "name": "stderr",
     "output_type": "stream",
     "text": [
      "/home/mimo/.config/jupyterlab-desktop/jlab_server/lib/python3.12/site-packages/sklearn/neural_network/_multilayer_perceptron.py:781: ConvergenceWarning: Stochastic Optimizer: Maximum iterations (50) reached and the optimization hasn't converged yet.\n",
      "  warnings.warn(\n"
     ]
    }
   ],
   "source": [
    "# Preprocess data\n",
    "scaler = StandardScaler()\n",
    "X_train_scaled = scaler.fit_transform(X_train)\n",
    "X_test_scaled = scaler.transform(X_test)\n",
    "\n",
    "# Model 1: Single hidden layer (100 units)\n",
    "mlp1 = MLPClassifier(hidden_layer_sizes=(100,), activation='logistic', \n",
    "                     solver='sgd', learning_rate_init=0.1, max_iter=50, random_state=42)\n",
    "\n",
    "start = time.time()\n",
    "mlp1.fit(X_train_scaled, y_train.ravel())  # scikit-learn expects labels as 1D array\n",
    "end = time.time()\n",
    "preds1 = mlp1.predict(X_test_scaled)\n",
    "acc1 = accuracy_score(y_test, preds1)\n",
    "print(f\"Sklearn 1-layer MLP accuracy: {acc1:.4f} | Training time: {end-start:.1f}s\")\n"
   ]
  },
  {
   "cell_type": "code",
   "execution_count": null,
   "id": "d88e2cf1-3665-42bf-b56f-3169243549dc",
   "metadata": {},
   "outputs": [],
   "source": [
    "\n",
    "# Model 2: Three hidden layers (100, 50, 50)\n",
    "mlp2 = MLPClassifier(hidden_layer_sizes=(100,50,50), activation='logistic', \n",
    "                     solver='sgd', learning_rate_init=0.1, max_iter=50, random_state=42)\n",
    "\n",
    "start = time.time()\n",
    "mlp2.fit(X_train_scaled, y_train.ravel())\n",
    "end = time.time()\n",
    "preds2 = mlp2.predict(X_test_scaled)\n",
    "acc2 = accuracy_score(y_test, preds2)\n",
    "print(f\"Sklearn 3-layer MLP accuracy: {acc2:.4f} | Training time: {end-start:.1f}s\")\n"
   ]
  },
  {
   "cell_type": "code",
   "execution_count": null,
   "id": "08b597cb-7c29-4969-8f4a-7ee0bbc77f2b",
   "metadata": {},
   "outputs": [],
   "source": []
  }
 ],
 "metadata": {
  "kernelspec": {
   "display_name": "Python 3 (ipykernel)",
   "language": "python",
   "name": "python3"
  },
  "language_info": {
   "codemirror_mode": {
    "name": "ipython",
    "version": 3
   },
   "file_extension": ".py",
   "mimetype": "text/x-python",
   "name": "python",
   "nbconvert_exporter": "python",
   "pygments_lexer": "ipython3",
   "version": "3.12.5"
  }
 },
 "nbformat": 4,
 "nbformat_minor": 5
}

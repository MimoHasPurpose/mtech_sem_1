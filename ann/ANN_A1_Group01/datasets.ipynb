{
 "cells": [
  {
   "cell_type": "code",
   "execution_count": 10,
   "id": "59680663-4ea4-462f-b4aa-177460e70c59",
   "metadata": {},
   "outputs": [],
   "source": [
    "import matplotlib.pyplot as plt"
   ]
  },
  {
   "cell_type": "code",
   "execution_count": 1,
   "id": "c78f1565-808a-47dd-87b3-9fc4e568386f",
   "metadata": {},
   "outputs": [],
   "source": [
    "def unpickle(file):\n",
    "    import pickle\n",
    "    with open(file, 'rb') as fo:\n",
    "        dict = pickle.load(fo, encoding='bytes')\n",
    "    return dict"
   ]
  },
  {
   "cell_type": "code",
   "execution_count": 2,
   "id": "c6376ece-cf89-497a-8c0f-ca75564b82b0",
   "metadata": {},
   "outputs": [],
   "source": [
    "a=unpickle('cifar/data_batch_1')\n",
    "b=unpickle('cifar/data_batch_2')\n",
    "c=unpickle('cifar/data_batch_3')\n",
    "d=unpickle('cifar/data_batch_4')\n",
    "e=unpickle('cifar/data_batch_5')\n",
    "f=unpickle('cifar/test_batch')\n",
    "g=unpickle('cifar/batches.meta')"
   ]
  },
  {
   "cell_type": "code",
   "execution_count": 5,
   "id": "148424db-3f42-4d33-ac0d-1f6288ca3cdc",
   "metadata": {},
   "outputs": [
    {
     "data": {
      "text/plain": [
       "dict_keys([b'batch_label', b'labels', b'data', b'filenames'])"
      ]
     },
     "execution_count": 5,
     "metadata": {},
     "output_type": "execute_result"
    }
   ],
   "source": [
    "a.keys()\n"
   ]
  },
  {
   "cell_type": "code",
   "execution_count": 6,
   "id": "74a42b3e-3bcc-45a7-83bd-faa056a14b3e",
   "metadata": {},
   "outputs": [
    {
     "name": "stdout",
     "output_type": "stream",
     "text": [
      "b'batch_label'\n"
     ]
    }
   ],
   "source": [
    "for item in b:\n",
    "    print(item)\n",
    "    break"
   ]
  },
  {
   "cell_type": "code",
   "execution_count": 8,
   "id": "50001b2b-6a06-4a64-8248-304aacebd391",
   "metadata": {},
   "outputs": [
    {
     "data": {
      "text/plain": [
       "dict_keys([b'batch_label', b'labels', b'data', b'filenames'])"
      ]
     },
     "execution_count": 8,
     "metadata": {},
     "output_type": "execute_result"
    }
   ],
   "source": [
    "f.keys()"
   ]
  },
  {
   "cell_type": "code",
   "execution_count": 8,
   "id": "1b486ee9-0183-4422-9463-76fd1e050ab0",
   "metadata": {},
   "outputs": [],
   "source": [
    "# f"
   ]
  },
  {
   "cell_type": "code",
   "execution_count": 9,
   "id": "2afd93a9-a692-46c2-a8eb-715225a2f0de",
   "metadata": {},
   "outputs": [],
   "source": [
    "# g"
   ]
  },
  {
   "cell_type": "code",
   "execution_count": 12,
   "id": "81bdb845-6e1c-4805-8e14-c50506269038",
   "metadata": {},
   "outputs": [
    {
     "data": {
      "text/plain": [
       "dict_keys([b'num_cases_per_batch', b'label_names', b'num_vis'])"
      ]
     },
     "execution_count": 12,
     "metadata": {},
     "output_type": "execute_result"
    }
   ],
   "source": [
    "g.keys()"
   ]
  },
  {
   "cell_type": "code",
   "execution_count": 13,
   "id": "f004372c-6160-4678-afe6-0270062f249f",
   "metadata": {},
   "outputs": [
    {
     "data": {
      "text/plain": [
       "dict_values([10000, [b'airplane', b'automobile', b'bird', b'cat', b'deer', b'dog', b'frog', b'horse', b'ship', b'truck'], 3072])"
      ]
     },
     "execution_count": 13,
     "metadata": {},
     "output_type": "execute_result"
    }
   ],
   "source": [
    "g.values()"
   ]
  },
  {
   "cell_type": "code",
   "execution_count": 23,
   "id": "11d108e0-b05d-4eeb-bc00-1e35a4fbc8c0",
   "metadata": {},
   "outputs": [],
   "source": [
    "import pickle\n",
    "import numpy as np\n",
    "\n",
    "def load_cifar_batch(path):\n",
    "    with open(path, 'rb') as f:\n",
    "        batch = pickle.load(f, encoding='bytes')\n",
    "        images = batch[b'data'].reshape(-1, 3, 32, 32)\n",
    "         # img = img.reshape(3, 32, 32).transpose(1, 2, 0)\n",
    "        labels = np.array(batch[b'labels'])\n",
    "    return images, labels\n"
   ]
  },
  {
   "cell_type": "code",
   "execution_count": 24,
   "id": "2ffb0f91-5535-4295-bd9a-2358867fdbd7",
   "metadata": {},
   "outputs": [],
   "source": [
    "image, label=load_cifar_batch('cifar/data_batch_2')"
   ]
  },
  {
   "cell_type": "code",
   "execution_count": 26,
   "id": "13316055-e19d-4ef3-a485-116ab0a19e6d",
   "metadata": {},
   "outputs": [],
   "source": [
    "img=image[30].reshape(3, 32, 32).transpose(1, 2, 0)"
   ]
  },
  {
   "cell_type": "code",
   "execution_count": 27,
   "id": "27c159e7-ee13-40c3-9c64-793ededc3c06",
   "metadata": {},
   "outputs": [
    {
     "data": {
      "text/plain": [
       "<matplotlib.image.AxesImage at 0x7d63310997f0>"
      ]
     },
     "execution_count": 27,
     "metadata": {},
     "output_type": "execute_result"
    },
    {
     "data": {
      "image/png": "[encoded data removed]",
      "text/plain": [
       "<Figure size 640x480 with 1 Axes>"
      ]
     },
     "metadata": {},
     "output_type": "display_data"
    }
   ],
   "source": [
    "plt.imshow(img)"
   ]
  },
  {
   "cell_type": "code",
   "execution_count": 16,
   "id": "0b70a49a-f083-4538-af55-3a1416b7210e",
   "metadata": {},
   "outputs": [
    {
     "data": {
      "text/plain": [
       "np.int64(5)"
      ]
     },
     "execution_count": 16,
     "metadata": {},
     "output_type": "execute_result"
    }
   ],
   "source": [
    "label[40]"
   ]
  },
  {
   "cell_type": "code",
   "execution_count": null,
   "id": "8904ccdc-27c7-4f43-b76d-917d19d1baea",
   "metadata": {},
   "outputs": [],
   "source": []
  }
 ],
 "metadata": {
  "kernelspec": {
   "display_name": "Python 3 (ipykernel)",
   "language": "python",
   "name": "python3"
  },
  "language_info": {
   "codemirror_mode": {
    "name": "ipython",
    "version": 3
   },
   "file_extension": ".py",
   "mimetype": "text/x-python",
   "name": "python",
   "nbconvert_exporter": "python",
   "pygments_lexer": "ipython3",
   "version": "3.12.5"
  }
 },
 "nbformat": 4,
 "nbformat_minor": 5
}

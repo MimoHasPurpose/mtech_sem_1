{
 "cells": [
  {
   "cell_type": "markdown",
   "id": "b72c83ac-e888-4dc4-82a3-4f608017e0a9",
   "metadata": {},
   "source": [
    "### Task\n",
    "#### Depth first search, breadth first search, and best first search"
   ]
  },
  {
   "cell_type": "markdown",
   "id": "940a3bf3",
   "metadata": {},
   "source": []
  },
  {
   "cell_type": "code",
   "execution_count": null,
   "id": "d428c5b9-1233-43ad-b71e-0ecd69cd8efc",
   "metadata": {},
   "outputs": [],
   "source": []
  },
  {
   "cell_type": "code",
   "execution_count": null,
   "id": "bb0b61ad-1b99-4e88-a230-60a8095dd97b",
   "metadata": {},
   "outputs": [],
   "source": []
  },
  {
   "cell_type": "code",
   "execution_count": null,
   "id": "5e7ec6df-3619-41e8-8ff3-485379bdee5b",
   "metadata": {},
   "outputs": [],
   "source": []
  },
  {
   "cell_type": "code",
   "execution_count": null,
   "id": "7d48f7ad-7a33-4c3c-835a-5224b62bb70f",
   "metadata": {},
   "outputs": [],
   "source": []
  },
  {
   "cell_type": "code",
   "execution_count": null,
   "id": "cc66bd9f-435c-42ac-993e-820699a9182d",
   "metadata": {},
   "outputs": [],
   "source": []
  },
  {
   "cell_type": "markdown",
   "id": "c6cb92f3-37b6-45bc-b88a-9e306b450217",
   "metadata": {},
   "source": [
    "##### reference: https://gist.github.com/wanderingstan/4b8ae84dd77eadf716b012f2a5e74790"
   ]
  }
 ],
 "metadata": {
  "kernelspec": {
   "display_name": "Python 3 (ipykernel)",
   "language": "python",
   "name": "python3"
  },
  "language_info": {
   "codemirror_mode": {
    "name": "ipython",
    "version": 3
   },
   "file_extension": ".py",
   "mimetype": "text/x-python",
   "name": "python",
   "nbconvert_exporter": "python",
   "pygments_lexer": "ipython3",
   "version": "3.12.3"
  }
 },
 "nbformat": 4,
 "nbformat_minor": 5
}

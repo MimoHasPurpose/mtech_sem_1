{
 "cells": [
  {
   "cell_type": "markdown",
   "metadata": {},
   "source": [
    "## Aim: To implement BFS,DFS and Best First Search\n"
   ]
  },
  {
   "cell_type": "markdown",
   "metadata": {},
   "source": [
    "## Theory\n",
    "To search for a solution a agent can use different searches\n",
    "1. Informed search: have a idea of goal\n",
    "   - best first search\n",
    "3. Uninformed search: no idea of goal\n",
    "   - breadth first search\n",
    "   - depth first search"
   ]
  },
  {
   "cell_type": "markdown",
   "metadata": {},
   "source": [
    "## Code"
   ]
  },
  {
   "cell_type": "code",
   "execution_count": 2,
   "metadata": {},
   "outputs": [],
   "source": [
    "graph = {'A': set(['B', 'C']),\n",
    "         'B': set(['A', 'D', 'E']),\n",
    "         'C': set(['A', 'F']),\n",
    "         'D': set(['B']),\n",
    "         'E': set(['B', 'F']),\n",
    "         'F': set(['C', 'E'])}"
   ]
  },
  {
   "cell_type": "code",
   "execution_count": 18,
   "metadata": {},
   "outputs": [
    {
     "data": {
      "text/plain": [
       "dict_values([{'B', 'C'}, {'E', 'D', 'A'}, {'F', 'A'}, {'B'}, {'B', 'F'}, {'E', 'C'}])"
      ]
     },
     "execution_count": 18,
     "metadata": {},
     "output_type": "execute_result"
    }
   ],
   "source": [
    "graph.values()"
   ]
  },
  {
   "cell_type": "code",
   "execution_count": 19,
   "metadata": {},
   "outputs": [
    {
     "data": {
      "text/plain": [
       "{'B', 'C'}"
      ]
     },
     "execution_count": 19,
     "metadata": {},
     "output_type": "execute_result"
    }
   ],
   "source": [
    "graph['A']"
   ]
  },
  {
   "cell_type": "code",
   "execution_count": 20,
   "metadata": {},
   "outputs": [
    {
     "data": {
      "text/plain": [
       "set"
      ]
     },
     "execution_count": 20,
     "metadata": {},
     "output_type": "execute_result"
    }
   ],
   "source": [
    "type(graph['A'])"
   ]
  },
  {
   "cell_type": "code",
   "execution_count": 14,
   "metadata": {},
   "outputs": [],
   "source": [
    "\n",
    "graph_nodes=[(\"A\"), (\"B\" ), (\"C\" ), (\"D\" ), (\"E\" ), (\"F\" ), (\"G\" ), (\"H\" )]\n",
    "\n",
    "graph_edges=[(\"A\", \"B\"), (\"A\", \"C\"), (\"B\", \"D\"), (\"B\", \"E\"), (\"C\", \"F\"), (\"C\", \"G\"), (\"E\",\"H\")]"
   ]
  },
  {
   "cell_type": "code",
   "execution_count": 26,
   "metadata": {},
   "outputs": [
    {
     "data": {
      "image/png": "[encoded data removed]",
      "text/plain": [
       "<Figure size 640x480 with 1 Axes>"
      ]
     },
     "metadata": {},
     "output_type": "display_data"
    }
   ],
   "source": [
    "graph\n",
    "import networkx as nx\n",
    "import matplotlib.pyplot as plt\n",
    "graph\n",
    "G=nx.Graph()\n",
    "G.add_nodes_from(graph_nodes)\n",
    "G.add_edges_from(graph_edges)\n",
    "subax1 = plt.plot()\n",
    "plt.title(\"graph!!\")\n",
    "nx.draw(G, with_labels=True, font_weight='bold')\n"
   ]
  },
  {
   "cell_type": "code",
   "execution_count": 3,
   "metadata": {},
   "outputs": [
    {
     "data": {
      "text/plain": [
       "{'A': {'B', 'C'},\n",
       " 'B': {'A', 'D', 'E'},\n",
       " 'C': {'A', 'F'},\n",
       " 'D': {'B'},\n",
       " 'E': {'B', 'F'},\n",
       " 'F': {'C', 'E'}}"
      ]
     },
     "execution_count": 3,
     "metadata": {},
     "output_type": "execute_result"
    }
   ],
   "source": [
    "graph"
   ]
  },
  {
   "cell_type": "code",
   "execution_count": 5,
   "metadata": {},
   "outputs": [
    {
     "data": {
      "text/plain": [
       "['A', 'C', 'F', 'E', 'B', 'D']"
      ]
     },
     "execution_count": 5,
     "metadata": {},
     "output_type": "execute_result"
    }
   ],
   "source": [
    "\n",
    "\n",
    "def dfs(graph, start):\n",
    "    visited, stack = [], [start] \n",
    "    while stack:\n",
    "        vertex = stack.pop()\n",
    "        if vertex not in visited:\n",
    "            visited.append(vertex)\n",
    "            stack.extend(graph[vertex] - set(visited))\n",
    "    return visited\n",
    "\n",
    "dfs(graph, 'A') "
   ]
  },
  {
   "cell_type": "markdown",
   "metadata": {},
   "source": [
    "# Breath-First Search\n",
    "\n",
    "An alternative algorithm called Breath-First search provides us with the ability to return the same results as DFS but with the added guarantee to return the shortest-path first. This algorithm is a little more tricky to implement in a recursive manner instead using the queue data-structure, as such I will only being documenting the iterative approach. The actions performed per each explored vertex are the same as the depth-first implementation, however, replacing the stack with a queue will instead explore the breadth of a vertex depth before moving on. This behavior guarantees that the first path located is one of the shortest-paths present, based on number of edges being the cost factor."
   ]
  },
  {
   "cell_type": "code",
   "execution_count": 9,
   "metadata": {},
   "outputs": [
    {
     "data": {
      "text/plain": [
       "['A', 'B', 'C', 'E', 'D', 'F']"
      ]
     },
     "execution_count": 9,
     "metadata": {},
     "output_type": "execute_result"
    }
   ],
   "source": [
    "\n",
    "def bfs(graph, start):\n",
    "    visited, queue = [], [start] \n",
    "    while queue:\n",
    "        vertex = queue.pop(0)\n",
    "        if vertex not in visited:\n",
    "            visited.append(vertex)\n",
    "            queue.extend(graph[vertex] - set(visited)) \n",
    "    return visited\n",
    "\n",
    "bfs(graph, 'A') "
   ]
  },
  {
   "cell_type": "markdown",
   "metadata": {},
   "source": [
    "## Best First Search algorithm"
   ]
  },
  {
   "cell_type": "code",
   "execution_count": 1,
   "metadata": {},
   "outputs": [
    {
     "name": "stdout",
     "output_type": "stream",
     "text": [
      "Path: A -> C -> D\n",
      "Total cost: 5\n"
     ]
    }
   ],
   "source": [
    "import heapq\n",
    "\n",
    "class Graph:\n",
    "    def __init__(self):\n",
    "        self.graph = {}\n",
    "        self.heuristics = {}\n",
    "\n",
    "    def add_edge(self, node, neighbor, cost):\n",
    "        if node not in self.graph:\n",
    "            self.graph[node] = []\n",
    "        self.graph[node].append((neighbor, cost))\n",
    "\n",
    "    def set_heuristic(self, node, heuristic):\n",
    "        self.heuristics[node] = heuristic\n",
    "\n",
    "def best_first_search(graph, start, goal):\n",
    "    frontier = [(graph.heuristics[start], start, [start], 0)]  # (heuristic, node, path, cost)\n",
    "    visited = set()\n",
    "\n",
    "    while frontier:\n",
    "        _, current, path, cost = heapq.heappop(frontier)\n",
    "\n",
    "        if current == goal:\n",
    "            return path, cost\n",
    "\n",
    "        if current not in visited:\n",
    "            visited.add(current)\n",
    "            for neighbor, edge_cost in graph.graph.get(current, []):\n",
    "                if neighbor not in visited:\n",
    "                    new_path = path + [neighbor]\n",
    "                    new_cost = cost + edge_cost\n",
    "                    heapq.heappush(frontier, (graph.heuristics[neighbor], neighbor, new_path, new_cost))\n",
    "\n",
    "    return [], float('inf')\n",
    "\n",
    "# Small example\n",
    "g = Graph()\n",
    "g.add_edge('A', 'B', 3)\n",
    "g.add_edge('A', 'C', 1)\n",
    "g.add_edge('C', 'D', 4)\n",
    "g.set_heuristic('A', 5)\n",
    "g.set_heuristic('B', 2)\n",
    "g.set_heuristic('C', 3)\n",
    "g.set_heuristic('D', 0)\n",
    "\n",
    "path, cost = best_first_search(g, 'A', 'D')\n",
    "print(f\"Path: {' -> '.join(path) if path else 'No path found'}\")\n",
    "print(f\"Total cost: {cost}\")"
   ]
  },
  {
   "cell_type": "code",
   "execution_count": null,
   "metadata": {},
   "outputs": [],
   "source": []
  },
  {
   "cell_type": "markdown",
   "metadata": {},
   "source": [
    "## Result\n",
    "1. DFS\n",
    "{'A', 'B', 'C', 'D', 'E', 'F'}\n",
    "2. BFS\n",
    "{'A', 'B', 'C', 'D', 'E', 'F'}   \n",
    "3. Best First Search\n",
    "Path: A -> C -> D\n",
    "Total cost: 5"
   ]
  },
  {
   "cell_type": "markdown",
   "metadata": {},
   "source": [
    "## Learning Outcome\n",
    "#### I learned to implement DFS, BFS, and best first search algorithms"
   ]
  },
  {
   "cell_type": "code",
   "execution_count": 27,
   "metadata": {},
   "outputs": [],
   "source": [
    "def goal_test(state):\n",
    "    return state == 'G'\n"
   ]
  },
  {
   "cell_type": "code",
   "execution_count": 28,
   "metadata": {},
   "outputs": [
    {
     "data": {
      "text/plain": [
       "<function __main__.<lambda>(state)>"
      ]
     },
     "execution_count": 28,
     "metadata": {},
     "output_type": "execute_result"
    }
   ],
   "source": [
    "lambda state: state == 'G'"
   ]
  },
  {
   "cell_type": "code",
   "execution_count": 29,
   "metadata": {},
   "outputs": [],
   "source": [
    "statemap = {'S': ['A', 'B'],\n",
    "            'A': ['S', 'C', 'D'],\n",
    "            'B': ['S', 'D', 'E'],\n",
    "            'C': ['A', 'F'],\n",
    "            'D': ['A', 'B', 'F', 'H'],\n",
    "            'E': ['B', 'H'],\n",
    "            'F': ['C', 'D', 'G'],\n",
    "            'G': ['F', 'H'],\n",
    "            'H': ['D', 'E', 'G']}"
   ]
  },
  {
   "cell_type": "code",
   "execution_count": null,
   "metadata": {},
   "outputs": [],
   "source": []
  },
  {
   "cell_type": "code",
   "execution_count": 38,
   "metadata": {},
   "outputs": [
    {
     "data": {
      "text/plain": [
       "'H'"
      ]
     },
     "execution_count": 38,
     "metadata": {},
     "output_type": "execute_result"
    }
   ],
   "source": [
    "statemap['D'][0] # returns state A\n",
    "statemap['D'][1] # returns state B\n",
    "statemap['D'][2] # returns state F\n",
    "statemap['D'][3] # returns state H"
   ]
  },
  {
   "cell_type": "code",
   "execution_count": 39,
   "metadata": {},
   "outputs": [],
   "source": [
    "def statemap_successor(state, action):\n",
    "    return statemap[state][action]"
   ]
  },
  {
   "cell_type": "code",
   "execution_count": null,
   "metadata": {},
   "outputs": [],
   "source": []
  },
  {
   "cell_type": "code",
   "execution_count": 41,
   "metadata": {},
   "outputs": [
    {
     "name": "stdout",
     "output_type": "stream",
     "text": [
      "H\n"
     ]
    }
   ],
   "source": [
    "print(statemap_successor('G', 1)) # output 'G'"
   ]
  },
  {
   "cell_type": "code",
   "execution_count": 44,
   "metadata": {},
   "outputs": [
    {
     "name": "stdout",
     "output_type": "stream",
     "text": [
      "off\n",
      "off\n",
      "on\n",
      "on\n",
      "on\n",
      "on\n",
      "on\n",
      "off\n",
      "on\n",
      "off\n",
      "on\n",
      "on\n",
      "off\n"
     ]
    }
   ],
   "source": [
    "class LightBox:\n",
    "    def __init__(self):\n",
    "        self.state = \"off\"\n",
    "\n",
    "    def set_output(self, inp):\n",
    "        if inp == 1 and self.state == \"off\":\n",
    "            self.state = \"on\"\n",
    "            return self.state\n",
    "        if inp == 1 and self.state == \"on\":\n",
    "            self.state = \"off\"\n",
    "            return self.state\n",
    "        return self.state\n",
    "\n",
    "    def transduce(self, list_inp):\n",
    "        for inp in list_inp:\n",
    "            print(self.set_output(inp))\n",
    "\n",
    "lb1 = LightBox()\n",
    "lb1.transduce([0, 0, 1, 0, 0, 0, 0, 1, 1, 1, 1, 0, 1])"
   ]
  },
  {
   "cell_type": "code",
   "execution_count": 45,
   "metadata": {},
   "outputs": [
    {
     "name": "stdout",
     "output_type": "stream",
     "text": [
      "off\n",
      "off\n",
      "on\n",
      "on\n",
      "on\n",
      "on\n",
      "on\n",
      "off\n",
      "on\n",
      "off\n",
      "on\n",
      "on\n",
      "off\n"
     ]
    }
   ],
   "source": [
    "\n",
    "from abc import ABC, abstractmethod\n",
    "\n",
    "class StateMachine(ABC):\n",
    "\n",
    "    def start(self):\n",
    "        self.state = self.start_state\n",
    "\n",
    "    def step(self, inp):\n",
    "        ns, o = self.get_next_values(self.state, inp)\n",
    "        self.state = ns\n",
    "        return o\n",
    "\n",
    "    @property\n",
    "    @abstractmethod\n",
    "    def start_state(self):\n",
    "        pass\n",
    "\n",
    "    @abstractmethod\n",
    "    def get_next_values(self, state, inp):\n",
    "        pass\n",
    "\n",
    "class LightBoxSM(StateMachine):\n",
    "\n",
    "    @property\n",
    "    def start_state(self):\n",
    "        return \"off\"\n",
    "\n",
    "    def get_next_values(self, state, inp):\n",
    "\n",
    "        if state == \"off\":\n",
    "            if inp == 1:\n",
    "                next_state = \"on\"\n",
    "            else:\n",
    "                next_state = \"off\"\n",
    "        elif state == \"on\":\n",
    "            if inp == 1:\n",
    "                next_state = \"off\"\n",
    "            else:\n",
    "                next_state = \"on\"\n",
    "        output = next_state\n",
    "        return next_state, output\n",
    "\n",
    "lb2 = LightBoxSM()\n",
    "lb2.start()\n",
    "print(lb2.step(0))\n",
    "print(lb2.step(0))\n",
    "print(lb2.step(1))\n",
    "print(lb2.step(0))\n",
    "print(lb2.step(0))\n",
    "print(lb2.step(0))\n",
    "print(lb2.step(0))\n",
    "print(lb2.step(1))\n",
    "print(lb2.step(1))\n",
    "print(lb2.step(1))\n",
    "print(lb2.step(1))\n",
    "print(lb2.step(0))\n",
    "print(lb2.step(1))"
   ]
  },
  {
   "cell_type": "code",
   "execution_count": null,
   "metadata": {},
   "outputs": [],
   "source": []
  },
  {
   "cell_type": "code",
   "execution_count": 46,
   "metadata": {},
   "outputs": [
    {
     "ename": "TypeError",
     "evalue": "Can't instantiate abstract class StateMachine without an implementation for abstract methods 'get_next_values', 'start_state'",
     "output_type": "error",
     "traceback": [
      "\u001b[1;31m---------------------------------------------------------------------------\u001b[0m",
      "\u001b[1;31mTypeError\u001b[0m                                 Traceback (most recent call last)",
      "Cell \u001b[1;32mIn[46], line 25\u001b[0m\n\u001b[0;32m     20\u001b[0m         \u001b[38;5;28;01mpass\u001b[39;00m\n\u001b[0;32m     22\u001b[0m \u001b[38;5;66;03m# cannot instantiate StateMachine class\u001b[39;00m\n\u001b[0;32m     23\u001b[0m \u001b[38;5;66;03m# this will generate error\u001b[39;00m\n\u001b[1;32m---> 25\u001b[0m s \u001b[38;5;241m=\u001b[39m \u001b[43mStateMachine\u001b[49m\u001b[43m(\u001b[49m\u001b[43m)\u001b[49m\n",
      "\u001b[1;31mTypeError\u001b[0m: Can't instantiate abstract class StateMachine without an implementation for abstract methods 'get_next_values', 'start_state'"
     ]
    }
   ],
   "source": [
    "from abc import ABC, abstractmethod\n",
    "\n",
    "class StateMachine(ABC):\n",
    "\n",
    "    def start(self):\n",
    "        self.state = self.start_state\n",
    "\n",
    "    def step(self, inp):\n",
    "        ns, o = self.get_next_values(self.state, inp)\n",
    "        self.state = ns\n",
    "        return o\n",
    "\n",
    "    @property\n",
    "    @abstractmethod\n",
    "    def start_state(self):\n",
    "        pass\n",
    "\n",
    "    @abstractmethod\n",
    "    def get_next_values(self, state, inp):\n",
    "        pass\n",
    "\n",
    "# cannot instantiate StateMachine class\n",
    "# this will generate error\n",
    "\n",
    "s = StateMachine()"
   ]
  },
  {
   "cell_type": "code",
   "execution_count": 42,
   "metadata": {},
   "outputs": [
    {
     "ename": "NameError",
     "evalue": "name 'StateMachine' is not defined",
     "output_type": "error",
     "traceback": [
      "\u001b[1;31m---------------------------------------------------------------------------\u001b[0m",
      "\u001b[1;31mNameError\u001b[0m                                 Traceback (most recent call last)",
      "Cell \u001b[1;32mIn[42], line 3\u001b[0m\n\u001b[0;32m      1\u001b[0m \u001b[38;5;28;01mfrom\u001b[39;00m \u001b[38;5;21;01mabc\u001b[39;00m \u001b[38;5;28;01mimport\u001b[39;00m abstractmethod\n\u001b[1;32m----> 3\u001b[0m \u001b[38;5;28;01mclass\u001b[39;00m \u001b[38;5;21;01mStateSpaceSearch\u001b[39;00m(\u001b[43mStateMachine\u001b[49m):\n\u001b[0;32m      4\u001b[0m     \u001b[38;5;129m@property\u001b[39m\n\u001b[0;32m      5\u001b[0m     \u001b[38;5;129m@abstractmethod\u001b[39m\n\u001b[0;32m      6\u001b[0m     \u001b[38;5;28;01mdef\u001b[39;00m \u001b[38;5;21mstatemap\u001b[39m(\u001b[38;5;28mself\u001b[39m):\n\u001b[0;32m      7\u001b[0m         \u001b[38;5;28;01mpass\u001b[39;00m\n",
      "\u001b[1;31mNameError\u001b[0m: name 'StateMachine' is not defined"
     ]
    }
   ],
   "source": [
    "from abc import abstractmethod\n",
    "\n",
    "class StateSpaceSearch(StateMachine):\n",
    "    @property\n",
    "    @abstractmethod\n",
    "    def statemap(self):\n",
    "        pass\n",
    "\n",
    "    @property\n",
    "    @abstractmethod\n",
    "    def legal_inputs(self):\n",
    "        pass\n",
    "\n",
    "    @property\n",
    "    @abstractmethod\n",
    "    def start_state(self):\n",
    "        return self.__start_state\n",
    "\n",
    "    @start_state.setter\n",
    "    @abstrctmethod\n",
    "    def start_state(self, value):\n",
    "        self.__start_state = value\n"
   ]
  },
  {
   "cell_type": "code",
   "execution_count": 35,
   "metadata": {},
   "outputs": [
    {
     "ename": "NameError",
     "evalue": "name 'StateSpaceSearch' is not defined",
     "output_type": "error",
     "traceback": [
      "\u001b[1;31m---------------------------------------------------------------------------\u001b[0m",
      "\u001b[1;31mNameError\u001b[0m                                 Traceback (most recent call last)",
      "Cell \u001b[1;32mIn[35], line 1\u001b[0m\n\u001b[1;32m----> 1\u001b[0m \u001b[38;5;28;01mclass\u001b[39;00m \u001b[38;5;21;01mMapSM\u001b[39;00m(\u001b[43mStateSpaceSearch\u001b[49m):\n\u001b[0;32m      3\u001b[0m     \u001b[38;5;28;01mdef\u001b[39;00m \u001b[38;5;21m__init__\u001b[39m(\u001b[38;5;28mself\u001b[39m, start):\n\u001b[0;32m      4\u001b[0m         \u001b[38;5;28mself\u001b[39m\u001b[38;5;241m.\u001b[39mstart_state \u001b[38;5;241m=\u001b[39m start\n",
      "\u001b[1;31mNameError\u001b[0m: name 'StateSpaceSearch' is not defined"
     ]
    }
   ],
   "source": [
    "class MapSM(StateSpaceSearch):\n",
    "\n",
    "    def __init__(self, start):\n",
    "        self.start_state = start\n",
    "\n",
    "    @property\n",
    "    def statemap(self):\n",
    "        statemap = {\"S\": [\"A\", \"B\"],\n",
    "                    \"A\": [\"S\", \"C\", \"D\"],\n",
    "                    \"B\": [\"S\", \"D\", \"E\"],\n",
    "                    \"C\": [\"A\", \"F\"],\n",
    "                    \"D\": [\"A\", \"B\", \"F\", \"H\"],\n",
    "                    \"E\": [\"B\", \"H\"],\n",
    "                    \"F\": [\"C\", \"D\", \"G\"],\n",
    "                    \"H\": [\"D\", \"E\", \"G\"],\n",
    "                    \"G\": [\"F\", \"H\"]}\n",
    "        return statemap"
   ]
  },
  {
   "cell_type": "code",
   "execution_count": 31,
   "metadata": {},
   "outputs": [
    {
     "ename": "NameError",
     "evalue": "name 'MapSM' is not defined",
     "output_type": "error",
     "traceback": [
      "\u001b[1;31m---------------------------------------------------------------------------\u001b[0m",
      "\u001b[1;31mNameError\u001b[0m                                 Traceback (most recent call last)",
      "Cell \u001b[1;32mIn[31], line 1\u001b[0m\n\u001b[1;32m----> 1\u001b[0m a\u001b[38;5;241m=\u001b[39m\u001b[43mMapSM\u001b[49m()\n\u001b[0;32m      2\u001b[0m a\n",
      "\u001b[1;31mNameError\u001b[0m: name 'MapSM' is not defined"
     ]
    }
   ],
   "source": [
    "a=MapSM()\n",
    "a"
   ]
  },
  {
   "cell_type": "code",
   "execution_count": null,
   "metadata": {},
   "outputs": [],
   "source": []
  }
 ],
 "metadata": {
  "kernelspec": {
   "display_name": "Python 3 (ipykernel)",
   "language": "python",
   "name": "python3"
  },
  "language_info": {
   "codemirror_mode": {
    "name": "ipython",
    "version": 3
   },
   "file_extension": ".py",
   "mimetype": "text/x-python",
   "name": "python",
   "nbconvert_exporter": "python",
   "pygments_lexer": "ipython3",
   "version": "3.12.3"
  }
 },
 "nbformat": 4,
 "nbformat_minor": 4
}
